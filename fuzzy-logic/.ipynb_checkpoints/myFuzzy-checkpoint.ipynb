{
 "cells": [
  {
   "cell_type": "code",
   "execution_count": 18,
   "metadata": {
    "collapsed": false
   },
   "outputs": [
    {
     "name": "stdout",
     "output_type": "stream",
     "text": [
      "   Vaccin  HndWshQual  HndWshFreq  SocialDist  NotTchFace  RespEtiq  \\\n",
      "0     3.0         4.0         4.0         2.0         1.0       5.0   \n",
      "1     2.0         4.0         4.0         5.0         2.0       5.0   \n",
      "2     3.0         2.0         2.0         2.0         3.0       2.0   \n",
      "3     3.0         3.0         2.0         2.0         2.0       5.0   \n",
      "4     2.0         5.0         3.0         3.0         2.0       5.0   \n",
      "\n",
      "   PrsnlDist  Sick  \n",
      "0        1.0   0.0  \n",
      "1        4.0   1.0  \n",
      "2        2.0   0.0  \n",
      "3        3.0   2.0  \n",
      "4        5.0   1.0  \n"
     ]
    }
   ],
   "source": [
    "import skfuzzy as fuzzy\n",
    "import pandas as pd\n",
    "\n",
    "df = pd.read_csv('../Data/fluML.csv')\n",
    "working_frame = df.iloc[:,1:8].copy(deep=True)\n",
    "working_frame['Sick'] = df.iloc[:,15].copy(deep=True)\n",
    "print working_frame.head()\n"
   ]
  },
  {
   "cell_type": "code",
   "execution_count": 11,
   "metadata": {
    "collapsed": false
   },
   "outputs": [
    {
     "name": "stdout",
     "output_type": "stream",
     "text": [
      "(417, 7)\n"
     ]
    }
   ],
   "source": [
    "print working_frame.shape"
   ]
  },
  {
   "cell_type": "code",
   "execution_count": 19,
   "metadata": {
    "collapsed": true
   },
   "outputs": [],
   "source": [
    "\n",
    "x_vacc = working_frame.Vaccin\n",
    "x_hwq = working_frame.HndWshQual\n",
    "#x_hwf = working_frame.HndWshFreq\n",
    "#x_sd = working_frame.SocialDist\n",
    "#x_ntf = working_frame.NotTchFace\n",
    "#x_re = working_frame.RespEtiq\n",
    "#x_pd = working_frame.PrsnlDist\n",
    "x_sick = working_frame.Sick\n"
   ]
  },
  {
   "cell_type": "code",
   "execution_count": 33,
   "metadata": {
    "collapsed": false
   },
   "outputs": [],
   "source": [
    "# Feature: Vaccine\n",
    "x_vacc_lo = fuzzy.trimf(x_vacc, [0,0,3])\n",
    "x_vacc_md = fuzzy.trimf(x_vacc, [0,3,5])\n",
    "x_vacc_hi = fuzzy.trimf(x_vacc, [3,3,5])\n",
    "#print \"lo\", \":\", x_vacc_lo\n",
    "#print \"md\", \":\", x_vacc_md\n",
    "#print \"hi\", \":\", x_vacc_hi\n",
    "\n",
    "# Feature: Hand Wash Quality \n",
    "x_hwq_lo = fuzzy.trimf(x_hwq, [0,0,3])\n",
    "x_hwq_md = fuzzy.trimf(x_hwq, [0,3,5])\n",
    "x_hwq_hi = fuzzy.trimf(x_hwq, [3,3,5])\n",
    "\n",
    "# Feature: Sick (target variable)\n",
    "x_sick_lo = fuzzy.trimf(x_sick, [0,0,1])\n",
    "x_sick_md = fuzzy.trimf(x_sick, [0,1,2])\n",
    "x_sick_hi = fuzzy.trimf(x_sick, [1,1,2])\n"
   ]
  },
  {
   "cell_type": "code",
   "execution_count": null,
   "metadata": {
    "collapsed": true
   },
   "outputs": [],
   "source": []
  }
 ],
 "metadata": {
  "kernelspec": {
   "display_name": "Python 2",
   "language": "python",
   "name": "python2"
  },
  "language_info": {
   "codemirror_mode": {
    "name": "ipython",
    "version": 2
   },
   "file_extension": ".py",
   "mimetype": "text/x-python",
   "name": "python",
   "nbconvert_exporter": "python",
   "pygments_lexer": "ipython2",
   "version": "2.7.10"
  }
 },
 "nbformat": 4,
 "nbformat_minor": 2
}
